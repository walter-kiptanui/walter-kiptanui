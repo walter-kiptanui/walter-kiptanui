{
 "cells": [
  {
   "cell_type": "code",
   "execution_count": 1,
   "id": "a8b2df9d",
   "metadata": {},
   "outputs": [],
   "source": [
    "import matplotlib.pyplot as plt #data visualization\n",
    "import numpy as np #numerical manipulation of the datasets\n",
    "import pandas as pd #reading in our data\n",
    "from sklearn.ensemble import RandomForestRegressor  #importing our model\n",
    "from sklearn.linear_model import LinearRegression  #importing our model\n",
    "from sklearn.metrics import mean_squared_error  #importing our metrics\n",
    "from sklearn.model_selection import train_test_split, KFold, cross_val_score  #validation andchecking for fittings\n",
    "import seaborn as sns  #customizing the visualizations\n",
    "\n",
    "#deployment module\n",
    "import streamlit as st\n",
    "\n",
    "#saving our model\n",
    "import pickle\n",
    "import joblib\n",
    "from joblib import dump"
   ]
  },
  {
   "cell_type": "code",
   "execution_count": null,
   "id": "93e357d2",
   "metadata": {},
   "outputs": [],
   "source": [
    "#our data is divided into train set and test set. We read them individually\n",
    "#For the train data we first determine the number of rows\n",
    "with open(\"I:/DATA SCIENCE/train.csv\") as file:\n",
    "    n_rows = len(file.readlines())\n",
    "    print('Exact no. of rows', format(n_rows))"
   ]
  },
  {
   "cell_type": "code",
   "execution_count": null,
   "id": "6a87fbb4",
   "metadata": {},
   "outputs": [],
   "source": [
    "#with the high number of rows we may want to chunk our data to avoid crushing our machine\n",
    "#we chunk to get 50 rowschunk_size = 50000\n",
    "batch_no = 1\n",
    "for chunk in pd.read(train.csv, chunk_size = chunk_size):\n",
    "    chunk.to_csv('movie_rating' + 'str(batch_no)' + '.csv', index = False)\n",
    "    batch_no +=1"
   ]
  },
  {
   "cell_type": "code",
   "execution_count": 2,
   "id": "845f6347",
   "metadata": {},
   "outputs": [
    {
     "data": {
      "text/html": [
       "<div>\n",
       "<style scoped>\n",
       "    .dataframe tbody tr th:only-of-type {\n",
       "        vertical-align: middle;\n",
       "    }\n",
       "\n",
       "    .dataframe tbody tr th {\n",
       "        vertical-align: top;\n",
       "    }\n",
       "\n",
       "    .dataframe thead th {\n",
       "        text-align: right;\n",
       "    }\n",
       "</style>\n",
       "<table border=\"1\" class=\"dataframe\">\n",
       "  <thead>\n",
       "    <tr style=\"text-align: right;\">\n",
       "      <th></th>\n",
       "      <th>key</th>\n",
       "      <th>fare_amount</th>\n",
       "      <th>pickup_datetime</th>\n",
       "      <th>pickup_longitude</th>\n",
       "      <th>pickup_latitude</th>\n",
       "      <th>dropoff_longitude</th>\n",
       "      <th>dropoff_latitude</th>\n",
       "      <th>passenger_count</th>\n",
       "    </tr>\n",
       "  </thead>\n",
       "  <tbody>\n",
       "    <tr>\n",
       "      <th>0</th>\n",
       "      <td>2009-06-15 17:26:21.0000001</td>\n",
       "      <td>4.5</td>\n",
       "      <td>2009-06-15 17:26:21 UTC</td>\n",
       "      <td>-73.844311</td>\n",
       "      <td>40.721319</td>\n",
       "      <td>-73.841610</td>\n",
       "      <td>40.712278</td>\n",
       "      <td>1</td>\n",
       "    </tr>\n",
       "    <tr>\n",
       "      <th>1</th>\n",
       "      <td>2010-01-05 16:52:16.0000002</td>\n",
       "      <td>16.9</td>\n",
       "      <td>2010-01-05 16:52:16 UTC</td>\n",
       "      <td>-74.016048</td>\n",
       "      <td>40.711303</td>\n",
       "      <td>-73.979268</td>\n",
       "      <td>40.782004</td>\n",
       "      <td>1</td>\n",
       "    </tr>\n",
       "  </tbody>\n",
       "</table>\n",
       "</div>"
      ],
      "text/plain": [
       "                           key  fare_amount          pickup_datetime  \\\n",
       "0  2009-06-15 17:26:21.0000001          4.5  2009-06-15 17:26:21 UTC   \n",
       "1  2010-01-05 16:52:16.0000002         16.9  2010-01-05 16:52:16 UTC   \n",
       "\n",
       "   pickup_longitude  pickup_latitude  dropoff_longitude  dropoff_latitude  \\\n",
       "0        -73.844311        40.721319         -73.841610         40.712278   \n",
       "1        -74.016048        40.711303         -73.979268         40.782004   \n",
       "\n",
       "   passenger_count  \n",
       "0                1  \n",
       "1                1  "
      ]
     },
     "execution_count": 2,
     "metadata": {},
     "output_type": "execute_result"
    }
   ],
   "source": [
    "#reading in our data\n",
    "trn = pd.read_csv('movie_rating1.csv')\n",
    "trn.head(2)"
   ]
  },
  {
   "cell_type": "code",
   "execution_count": 3,
   "id": "3288c354",
   "metadata": {},
   "outputs": [
    {
     "data": {
      "text/plain": [
       "50000"
      ]
     },
     "execution_count": 3,
     "metadata": {},
     "output_type": "execute_result"
    }
   ],
   "source": [
    "#determining the number of unique key numbers from the train data\n",
    "trn.key.nunique()"
   ]
  },
  {
   "cell_type": "code",
   "execution_count": 4,
   "id": "8500064a",
   "metadata": {},
   "outputs": [
    {
     "data": {
      "text/plain": [
       "Index(['key', 'fare_amount', 'pickup_datetime', 'pickup_longitude',\n",
       "       'pickup_latitude', 'dropoff_longitude', 'dropoff_latitude',\n",
       "       'passenger_count'],\n",
       "      dtype='object')"
      ]
     },
     "execution_count": 4,
     "metadata": {},
     "output_type": "execute_result"
    }
   ],
   "source": [
    "trn.columns  #to display the columns in our dataset"
   ]
  },
  {
   "cell_type": "code",
   "execution_count": 5,
   "id": "9c89b3a7",
   "metadata": {},
   "outputs": [
    {
     "data": {
      "text/plain": [
       "(50000, 8)"
      ]
     },
     "execution_count": 5,
     "metadata": {},
     "output_type": "execute_result"
    }
   ],
   "source": [
    "trn.shape    #to display the number of observations and their features "
   ]
  },
  {
   "cell_type": "code",
   "execution_count": 6,
   "id": "62e80786",
   "metadata": {},
   "outputs": [
    {
     "data": {
      "text/html": [
       "<div>\n",
       "<style scoped>\n",
       "    .dataframe tbody tr th:only-of-type {\n",
       "        vertical-align: middle;\n",
       "    }\n",
       "\n",
       "    .dataframe tbody tr th {\n",
       "        vertical-align: top;\n",
       "    }\n",
       "\n",
       "    .dataframe thead th {\n",
       "        text-align: right;\n",
       "    }\n",
       "</style>\n",
       "<table border=\"1\" class=\"dataframe\">\n",
       "  <thead>\n",
       "    <tr style=\"text-align: right;\">\n",
       "      <th></th>\n",
       "      <th>key</th>\n",
       "      <th>pickup_datetime</th>\n",
       "      <th>pickup_longitude</th>\n",
       "      <th>pickup_latitude</th>\n",
       "      <th>dropoff_longitude</th>\n",
       "      <th>dropoff_latitude</th>\n",
       "      <th>passenger_count</th>\n",
       "    </tr>\n",
       "  </thead>\n",
       "  <tbody>\n",
       "    <tr>\n",
       "      <th>0</th>\n",
       "      <td>2015-01-27 13:08:24.0000002</td>\n",
       "      <td>2015-01-27 13:08:24 UTC</td>\n",
       "      <td>-73.973320</td>\n",
       "      <td>40.763805</td>\n",
       "      <td>-73.981430</td>\n",
       "      <td>40.743835</td>\n",
       "      <td>1</td>\n",
       "    </tr>\n",
       "    <tr>\n",
       "      <th>1</th>\n",
       "      <td>2015-01-27 13:08:24.0000003</td>\n",
       "      <td>2015-01-27 13:08:24 UTC</td>\n",
       "      <td>-73.986862</td>\n",
       "      <td>40.719383</td>\n",
       "      <td>-73.998886</td>\n",
       "      <td>40.739201</td>\n",
       "      <td>1</td>\n",
       "    </tr>\n",
       "  </tbody>\n",
       "</table>\n",
       "</div>"
      ],
      "text/plain": [
       "                           key          pickup_datetime  pickup_longitude  \\\n",
       "0  2015-01-27 13:08:24.0000002  2015-01-27 13:08:24 UTC        -73.973320   \n",
       "1  2015-01-27 13:08:24.0000003  2015-01-27 13:08:24 UTC        -73.986862   \n",
       "\n",
       "   pickup_latitude  dropoff_longitude  dropoff_latitude  passenger_count  \n",
       "0        40.763805         -73.981430         40.743835                1  \n",
       "1        40.719383         -73.998886         40.739201                1  "
      ]
     },
     "execution_count": 6,
     "metadata": {},
     "output_type": "execute_result"
    }
   ],
   "source": [
    "#reading in our test data\n",
    "tst = pd.read_csv('test1.csv')\n",
    "tst.head(2)"
   ]
  },
  {
   "cell_type": "code",
   "execution_count": 7,
   "id": "69ba6a30",
   "metadata": {},
   "outputs": [
    {
     "data": {
      "text/plain": [
       "100"
      ]
     },
     "execution_count": 7,
     "metadata": {},
     "output_type": "execute_result"
    }
   ],
   "source": [
    "#the number of unique key numbers from the test data\n",
    "tst.key.nunique()"
   ]
  },
  {
   "cell_type": "code",
   "execution_count": 8,
   "id": "e60b9108",
   "metadata": {},
   "outputs": [
    {
     "data": {
      "text/html": [
       "<div>\n",
       "<style scoped>\n",
       "    .dataframe tbody tr th:only-of-type {\n",
       "        vertical-align: middle;\n",
       "    }\n",
       "\n",
       "    .dataframe tbody tr th {\n",
       "        vertical-align: top;\n",
       "    }\n",
       "\n",
       "    .dataframe thead th {\n",
       "        text-align: right;\n",
       "    }\n",
       "</style>\n",
       "<table border=\"1\" class=\"dataframe\">\n",
       "  <thead>\n",
       "    <tr style=\"text-align: right;\">\n",
       "      <th></th>\n",
       "      <th>pickup_longitude</th>\n",
       "      <th>pickup_latitude</th>\n",
       "      <th>dropoff_longitude</th>\n",
       "      <th>dropoff_latitude</th>\n",
       "      <th>passenger_count</th>\n",
       "    </tr>\n",
       "  </thead>\n",
       "  <tbody>\n",
       "    <tr>\n",
       "      <th>count</th>\n",
       "      <td>100.000000</td>\n",
       "      <td>100.000000</td>\n",
       "      <td>100.000000</td>\n",
       "      <td>100.000000</td>\n",
       "      <td>100.0</td>\n",
       "    </tr>\n",
       "    <tr>\n",
       "      <th>mean</th>\n",
       "      <td>-73.976663</td>\n",
       "      <td>40.749884</td>\n",
       "      <td>-73.978484</td>\n",
       "      <td>40.748806</td>\n",
       "      <td>1.0</td>\n",
       "    </tr>\n",
       "    <tr>\n",
       "      <th>std</th>\n",
       "      <td>0.034617</td>\n",
       "      <td>0.026221</td>\n",
       "      <td>0.029571</td>\n",
       "      <td>0.026083</td>\n",
       "      <td>0.0</td>\n",
       "    </tr>\n",
       "    <tr>\n",
       "      <th>min</th>\n",
       "      <td>-74.014099</td>\n",
       "      <td>40.644790</td>\n",
       "      <td>-74.015665</td>\n",
       "      <td>40.640400</td>\n",
       "      <td>1.0</td>\n",
       "    </tr>\n",
       "    <tr>\n",
       "      <th>25%</th>\n",
       "      <td>-73.992888</td>\n",
       "      <td>40.738724</td>\n",
       "      <td>-73.992647</td>\n",
       "      <td>40.735169</td>\n",
       "      <td>1.0</td>\n",
       "    </tr>\n",
       "    <tr>\n",
       "      <th>50%</th>\n",
       "      <td>-73.982292</td>\n",
       "      <td>40.750549</td>\n",
       "      <td>-73.983530</td>\n",
       "      <td>40.750298</td>\n",
       "      <td>1.0</td>\n",
       "    </tr>\n",
       "    <tr>\n",
       "      <th>75%</th>\n",
       "      <td>-73.969865</td>\n",
       "      <td>40.767329</td>\n",
       "      <td>-73.972122</td>\n",
       "      <td>40.764818</td>\n",
       "      <td>1.0</td>\n",
       "    </tr>\n",
       "    <tr>\n",
       "      <th>max</th>\n",
       "      <td>-73.777282</td>\n",
       "      <td>40.800890</td>\n",
       "      <td>-73.741922</td>\n",
       "      <td>40.808220</td>\n",
       "      <td>1.0</td>\n",
       "    </tr>\n",
       "  </tbody>\n",
       "</table>\n",
       "</div>"
      ],
      "text/plain": [
       "       pickup_longitude  pickup_latitude  dropoff_longitude  dropoff_latitude  \\\n",
       "count        100.000000       100.000000         100.000000        100.000000   \n",
       "mean         -73.976663        40.749884         -73.978484         40.748806   \n",
       "std            0.034617         0.026221           0.029571          0.026083   \n",
       "min          -74.014099        40.644790         -74.015665         40.640400   \n",
       "25%          -73.992888        40.738724         -73.992647         40.735169   \n",
       "50%          -73.982292        40.750549         -73.983530         40.750298   \n",
       "75%          -73.969865        40.767329         -73.972122         40.764818   \n",
       "max          -73.777282        40.800890         -73.741922         40.808220   \n",
       "\n",
       "       passenger_count  \n",
       "count            100.0  \n",
       "mean               1.0  \n",
       "std                0.0  \n",
       "min                1.0  \n",
       "25%                1.0  \n",
       "50%                1.0  \n",
       "75%                1.0  \n",
       "max                1.0  "
      ]
     },
     "execution_count": 8,
     "metadata": {},
     "output_type": "execute_result"
    }
   ],
   "source": [
    "tst.describe()"
   ]
  },
  {
   "cell_type": "code",
   "execution_count": 9,
   "id": "b95f0bb2",
   "metadata": {},
   "outputs": [
    {
     "data": {
      "text/plain": [
       "Index(['key', 'pickup_datetime', 'pickup_longitude', 'pickup_latitude',\n",
       "       'dropoff_longitude', 'dropoff_latitude', 'passenger_count'],\n",
       "      dtype='object')"
      ]
     },
     "execution_count": 9,
     "metadata": {},
     "output_type": "execute_result"
    }
   ],
   "source": [
    "tst.columns  #to determine the number the columns present in the dataset"
   ]
  },
  {
   "cell_type": "markdown",
   "id": "4120ee2d",
   "metadata": {},
   "source": [
    "The train and the test data sets exist as separate entities. We wish to combine the two datasets and since the number of unique keys numbers are not the same, we use the concatenate function."
   ]
  },
  {
   "cell_type": "code",
   "execution_count": 10,
   "id": "fe501611",
   "metadata": {},
   "outputs": [
    {
     "data": {
      "text/plain": [
       "Index(['key', 'fare_amount', 'pickup_datetime', 'pickup_longitude',\n",
       "       'pickup_latitude', 'dropoff_longitude', 'dropoff_latitude',\n",
       "       'passenger_count'],\n",
       "      dtype='object')"
      ]
     },
     "execution_count": 10,
     "metadata": {},
     "output_type": "execute_result"
    }
   ],
   "source": [
    "df1 = trn  \n",
    "df2 = tst\n",
    "df = pd.concat([df1, df2])\n",
    "df.columns  #to determine the resultant number of columns"
   ]
  },
  {
   "cell_type": "code",
   "execution_count": 11,
   "id": "f538cbce",
   "metadata": {},
   "outputs": [
    {
     "data": {
      "text/html": [
       "<div>\n",
       "<style scoped>\n",
       "    .dataframe tbody tr th:only-of-type {\n",
       "        vertical-align: middle;\n",
       "    }\n",
       "\n",
       "    .dataframe tbody tr th {\n",
       "        vertical-align: top;\n",
       "    }\n",
       "\n",
       "    .dataframe thead th {\n",
       "        text-align: right;\n",
       "    }\n",
       "</style>\n",
       "<table border=\"1\" class=\"dataframe\">\n",
       "  <thead>\n",
       "    <tr style=\"text-align: right;\">\n",
       "      <th></th>\n",
       "      <th>key</th>\n",
       "      <th>fare_amount</th>\n",
       "      <th>pickup_datetime</th>\n",
       "      <th>pickup_longitude</th>\n",
       "      <th>pickup_latitude</th>\n",
       "      <th>dropoff_longitude</th>\n",
       "      <th>dropoff_latitude</th>\n",
       "      <th>passenger_count</th>\n",
       "    </tr>\n",
       "  </thead>\n",
       "  <tbody>\n",
       "    <tr>\n",
       "      <th>0</th>\n",
       "      <td>2009-06-15 17:26:21.0000001</td>\n",
       "      <td>4.5</td>\n",
       "      <td>2009-06-15 17:26:21 UTC</td>\n",
       "      <td>-73.844311</td>\n",
       "      <td>40.721319</td>\n",
       "      <td>-73.841610</td>\n",
       "      <td>40.712278</td>\n",
       "      <td>1</td>\n",
       "    </tr>\n",
       "    <tr>\n",
       "      <th>1</th>\n",
       "      <td>2010-01-05 16:52:16.0000002</td>\n",
       "      <td>16.9</td>\n",
       "      <td>2010-01-05 16:52:16 UTC</td>\n",
       "      <td>-74.016048</td>\n",
       "      <td>40.711303</td>\n",
       "      <td>-73.979268</td>\n",
       "      <td>40.782004</td>\n",
       "      <td>1</td>\n",
       "    </tr>\n",
       "  </tbody>\n",
       "</table>\n",
       "</div>"
      ],
      "text/plain": [
       "                           key  fare_amount          pickup_datetime  \\\n",
       "0  2009-06-15 17:26:21.0000001          4.5  2009-06-15 17:26:21 UTC   \n",
       "1  2010-01-05 16:52:16.0000002         16.9  2010-01-05 16:52:16 UTC   \n",
       "\n",
       "   pickup_longitude  pickup_latitude  dropoff_longitude  dropoff_latitude  \\\n",
       "0        -73.844311        40.721319         -73.841610         40.712278   \n",
       "1        -74.016048        40.711303         -73.979268         40.782004   \n",
       "\n",
       "   passenger_count  \n",
       "0                1  \n",
       "1                1  "
      ]
     },
     "execution_count": 11,
     "metadata": {},
     "output_type": "execute_result"
    }
   ],
   "source": [
    "df.head(2)"
   ]
  },
  {
   "cell_type": "code",
   "execution_count": 12,
   "id": "68b4b447",
   "metadata": {},
   "outputs": [
    {
     "data": {
      "text/html": [
       "<div>\n",
       "<style scoped>\n",
       "    .dataframe tbody tr th:only-of-type {\n",
       "        vertical-align: middle;\n",
       "    }\n",
       "\n",
       "    .dataframe tbody tr th {\n",
       "        vertical-align: top;\n",
       "    }\n",
       "\n",
       "    .dataframe thead th {\n",
       "        text-align: right;\n",
       "    }\n",
       "</style>\n",
       "<table border=\"1\" class=\"dataframe\">\n",
       "  <thead>\n",
       "    <tr style=\"text-align: right;\">\n",
       "      <th></th>\n",
       "      <th>fare_amount</th>\n",
       "      <th>pickup_longitude</th>\n",
       "      <th>pickup_latitude</th>\n",
       "      <th>dropoff_longitude</th>\n",
       "      <th>dropoff_latitude</th>\n",
       "      <th>passenger_count</th>\n",
       "    </tr>\n",
       "  </thead>\n",
       "  <tbody>\n",
       "    <tr>\n",
       "      <th>count</th>\n",
       "      <td>50000.000000</td>\n",
       "      <td>50100.000000</td>\n",
       "      <td>50100.000000</td>\n",
       "      <td>50100.000000</td>\n",
       "      <td>50100.000000</td>\n",
       "      <td>50100.000000</td>\n",
       "    </tr>\n",
       "    <tr>\n",
       "      <th>mean</th>\n",
       "      <td>11.364171</td>\n",
       "      <td>-72.512684</td>\n",
       "      <td>39.935388</td>\n",
       "      <td>-72.507558</td>\n",
       "      <td>39.927893</td>\n",
       "      <td>1.666507</td>\n",
       "    </tr>\n",
       "    <tr>\n",
       "      <th>std</th>\n",
       "      <td>9.685557</td>\n",
       "      <td>10.383688</td>\n",
       "      <td>6.218748</td>\n",
       "      <td>10.397386</td>\n",
       "      <td>6.008843</td>\n",
       "      <td>1.288252</td>\n",
       "    </tr>\n",
       "    <tr>\n",
       "      <th>min</th>\n",
       "      <td>-5.000000</td>\n",
       "      <td>-75.423848</td>\n",
       "      <td>-74.006893</td>\n",
       "      <td>-84.654241</td>\n",
       "      <td>-74.006377</td>\n",
       "      <td>0.000000</td>\n",
       "    </tr>\n",
       "    <tr>\n",
       "      <th>25%</th>\n",
       "      <td>6.000000</td>\n",
       "      <td>-73.992065</td>\n",
       "      <td>40.734887</td>\n",
       "      <td>-73.991156</td>\n",
       "      <td>40.734374</td>\n",
       "      <td>1.000000</td>\n",
       "    </tr>\n",
       "    <tr>\n",
       "      <th>50%</th>\n",
       "      <td>8.500000</td>\n",
       "      <td>-73.981840</td>\n",
       "      <td>40.752675</td>\n",
       "      <td>-73.980092</td>\n",
       "      <td>40.753365</td>\n",
       "      <td>1.000000</td>\n",
       "    </tr>\n",
       "    <tr>\n",
       "      <th>75%</th>\n",
       "      <td>12.500000</td>\n",
       "      <td>-73.967159</td>\n",
       "      <td>40.767360</td>\n",
       "      <td>-73.963598</td>\n",
       "      <td>40.768162</td>\n",
       "      <td>2.000000</td>\n",
       "    </tr>\n",
       "    <tr>\n",
       "      <th>max</th>\n",
       "      <td>200.000000</td>\n",
       "      <td>40.783472</td>\n",
       "      <td>401.083332</td>\n",
       "      <td>40.851027</td>\n",
       "      <td>43.415190</td>\n",
       "      <td>6.000000</td>\n",
       "    </tr>\n",
       "  </tbody>\n",
       "</table>\n",
       "</div>"
      ],
      "text/plain": [
       "        fare_amount  pickup_longitude  pickup_latitude  dropoff_longitude  \\\n",
       "count  50000.000000      50100.000000     50100.000000       50100.000000   \n",
       "mean      11.364171        -72.512684        39.935388         -72.507558   \n",
       "std        9.685557         10.383688         6.218748          10.397386   \n",
       "min       -5.000000        -75.423848       -74.006893         -84.654241   \n",
       "25%        6.000000        -73.992065        40.734887         -73.991156   \n",
       "50%        8.500000        -73.981840        40.752675         -73.980092   \n",
       "75%       12.500000        -73.967159        40.767360         -73.963598   \n",
       "max      200.000000         40.783472       401.083332          40.851027   \n",
       "\n",
       "       dropoff_latitude  passenger_count  \n",
       "count      50100.000000     50100.000000  \n",
       "mean          39.927893         1.666507  \n",
       "std            6.008843         1.288252  \n",
       "min          -74.006377         0.000000  \n",
       "25%           40.734374         1.000000  \n",
       "50%           40.753365         1.000000  \n",
       "75%           40.768162         2.000000  \n",
       "max           43.415190         6.000000  "
      ]
     },
     "execution_count": 12,
     "metadata": {},
     "output_type": "execute_result"
    }
   ],
   "source": [
    "df.describe()"
   ]
  },
  {
   "cell_type": "code",
   "execution_count": 13,
   "id": "07239bc8",
   "metadata": {},
   "outputs": [
    {
     "name": "stdout",
     "output_type": "stream",
     "text": [
      "<class 'pandas.core.frame.DataFrame'>\n",
      "Int64Index: 50100 entries, 0 to 99\n",
      "Data columns (total 8 columns):\n",
      " #   Column             Non-Null Count  Dtype  \n",
      "---  ------             --------------  -----  \n",
      " 0   key                50100 non-null  object \n",
      " 1   fare_amount        50000 non-null  float64\n",
      " 2   pickup_datetime    50100 non-null  object \n",
      " 3   pickup_longitude   50100 non-null  float64\n",
      " 4   pickup_latitude    50100 non-null  float64\n",
      " 5   dropoff_longitude  50100 non-null  float64\n",
      " 6   dropoff_latitude   50100 non-null  float64\n",
      " 7   passenger_count    50100 non-null  int64  \n",
      "dtypes: float64(5), int64(1), object(2)\n",
      "memory usage: 3.4+ MB\n"
     ]
    }
   ],
   "source": [
    "df.info()   #will help me identify the missing values and the data types"
   ]
  },
  {
   "cell_type": "code",
   "execution_count": 14,
   "id": "740dc95a",
   "metadata": {},
   "outputs": [
    {
     "data": {
      "text/plain": [
       "Text(0.5, 1.0, 'The distribution of the missing data')"
      ]
     },
     "execution_count": 14,
     "metadata": {},
     "output_type": "execute_result"
    },
    {
     "data": {
      "image/png": "[encoded data removed]",
      "text/plain": [
       "<Figure size 648x720 with 1 Axes>"
      ]
     },
     "metadata": {
      "needs_background": "light"
     },
     "output_type": "display_data"
    }
   ],
   "source": [
    "#since after combining, the fare_amount had 100 missing data\n",
    "#we plot a bar graph to see the distribution of the missing data\n",
    "df.isna().sum().sort_values().plot(kind = 'barh', figsize = (9,10))\n",
    "plt.title(\"The distribution of the missing data\")"
   ]
  },
  {
   "cell_type": "code",
   "execution_count": 15,
   "id": "5400d300",
   "metadata": {},
   "outputs": [
    {
     "data": {
      "text/plain": [
       "['passenger_count']"
      ]
     },
     "execution_count": 15,
     "metadata": {},
     "output_type": "execute_result"
    }
   ],
   "source": [
    "#handling categorical data\n",
    "cat_cols = list()\n",
    "num_cols = list()\n",
    "for col in df.columns:\n",
    "    if df[col].nunique() < 10:\n",
    "        cat_cols.append(col)\n",
    "    else:\n",
    "        num_cols.append(col)\n",
    "cat_cols"
   ]
  },
  {
   "cell_type": "code",
   "execution_count": 16,
   "id": "228360cd",
   "metadata": {},
   "outputs": [
    {
     "name": "stderr",
     "output_type": "stream",
     "text": [
      "2021-10-13 23:08:23.434 INFO    numexpr.utils: NumExpr defaulting to 8 threads.\n"
     ]
    },
    {
     "data": {
      "text/html": [
       "<div>\n",
       "<style scoped>\n",
       "    .dataframe tbody tr th:only-of-type {\n",
       "        vertical-align: middle;\n",
       "    }\n",
       "\n",
       "    .dataframe tbody tr th {\n",
       "        vertical-align: top;\n",
       "    }\n",
       "\n",
       "    .dataframe thead th {\n",
       "        text-align: right;\n",
       "    }\n",
       "</style>\n",
       "<table border=\"1\" class=\"dataframe\">\n",
       "  <thead>\n",
       "    <tr style=\"text-align: right;\">\n",
       "      <th></th>\n",
       "      <th>key</th>\n",
       "      <th>fare_amount</th>\n",
       "      <th>pickup_datetime</th>\n",
       "      <th>pickup_longitude</th>\n",
       "      <th>pickup_latitude</th>\n",
       "      <th>dropoff_longitude</th>\n",
       "      <th>dropoff_latitude</th>\n",
       "      <th>passenger_count</th>\n",
       "      <th>passenger_count_encoded</th>\n",
       "    </tr>\n",
       "  </thead>\n",
       "  <tbody>\n",
       "    <tr>\n",
       "      <th>0</th>\n",
       "      <td>2009-06-15 17:26:21.0000001</td>\n",
       "      <td>4.5</td>\n",
       "      <td>2009-06-15 17:26:21 UTC</td>\n",
       "      <td>-73.844311</td>\n",
       "      <td>40.721319</td>\n",
       "      <td>-73.841610</td>\n",
       "      <td>40.712278</td>\n",
       "      <td>1</td>\n",
       "      <td>0.696766</td>\n",
       "    </tr>\n",
       "    <tr>\n",
       "      <th>1</th>\n",
       "      <td>2010-01-05 16:52:16.0000002</td>\n",
       "      <td>16.9</td>\n",
       "      <td>2010-01-05 16:52:16 UTC</td>\n",
       "      <td>-74.016048</td>\n",
       "      <td>40.711303</td>\n",
       "      <td>-73.979268</td>\n",
       "      <td>40.782004</td>\n",
       "      <td>1</td>\n",
       "      <td>0.696766</td>\n",
       "    </tr>\n",
       "  </tbody>\n",
       "</table>\n",
       "</div>"
      ],
      "text/plain": [
       "                           key  fare_amount          pickup_datetime  \\\n",
       "0  2009-06-15 17:26:21.0000001          4.5  2009-06-15 17:26:21 UTC   \n",
       "1  2010-01-05 16:52:16.0000002         16.9  2010-01-05 16:52:16 UTC   \n",
       "\n",
       "   pickup_longitude  pickup_latitude  dropoff_longitude  dropoff_latitude  \\\n",
       "0        -73.844311        40.721319         -73.841610         40.712278   \n",
       "1        -74.016048        40.711303         -73.979268         40.782004   \n",
       "\n",
       "   passenger_count  passenger_count_encoded  \n",
       "0                1                 0.696766  \n",
       "1                1                 0.696766  "
      ]
     },
     "execution_count": 16,
     "metadata": {},
     "output_type": "execute_result"
    }
   ],
   "source": [
    "def frequency_encoder(df, col):\n",
    "    fe = df.groupby(col).size()/len(df)\n",
    "    df[col+'_encoded'] = df[col].map(fe)\n",
    "    return df\n",
    "new_train = frequency_encoder(df, 'passenger_count')\n",
    "new_train.head(2)"
   ]
  },
  {
   "cell_type": "code",
   "execution_count": 17,
   "id": "f5fa25bc",
   "metadata": {},
   "outputs": [
    {
     "data": {
      "text/html": [
       "<div>\n",
       "<style scoped>\n",
       "    .dataframe tbody tr th:only-of-type {\n",
       "        vertical-align: middle;\n",
       "    }\n",
       "\n",
       "    .dataframe tbody tr th {\n",
       "        vertical-align: top;\n",
       "    }\n",
       "\n",
       "    .dataframe thead th {\n",
       "        text-align: right;\n",
       "    }\n",
       "</style>\n",
       "<table border=\"1\" class=\"dataframe\">\n",
       "  <thead>\n",
       "    <tr style=\"text-align: right;\">\n",
       "      <th></th>\n",
       "      <th>key</th>\n",
       "      <th>fare_amount</th>\n",
       "      <th>pickup_datetime</th>\n",
       "      <th>pickup_longitude</th>\n",
       "      <th>pickup_latitude</th>\n",
       "      <th>dropoff_longitude</th>\n",
       "      <th>dropoff_latitude</th>\n",
       "      <th>passenger_count_encoded</th>\n",
       "    </tr>\n",
       "  </thead>\n",
       "  <tbody>\n",
       "    <tr>\n",
       "      <th>0</th>\n",
       "      <td>2009-06-15 17:26:21.0000001</td>\n",
       "      <td>4.5</td>\n",
       "      <td>2009-06-15 17:26:21 UTC</td>\n",
       "      <td>-73.844311</td>\n",
       "      <td>40.721319</td>\n",
       "      <td>-73.841610</td>\n",
       "      <td>40.712278</td>\n",
       "      <td>0.696766</td>\n",
       "    </tr>\n",
       "    <tr>\n",
       "      <th>1</th>\n",
       "      <td>2010-01-05 16:52:16.0000002</td>\n",
       "      <td>16.9</td>\n",
       "      <td>2010-01-05 16:52:16 UTC</td>\n",
       "      <td>-74.016048</td>\n",
       "      <td>40.711303</td>\n",
       "      <td>-73.979268</td>\n",
       "      <td>40.782004</td>\n",
       "      <td>0.696766</td>\n",
       "    </tr>\n",
       "  </tbody>\n",
       "</table>\n",
       "</div>"
      ],
      "text/plain": [
       "                           key  fare_amount          pickup_datetime  \\\n",
       "0  2009-06-15 17:26:21.0000001          4.5  2009-06-15 17:26:21 UTC   \n",
       "1  2010-01-05 16:52:16.0000002         16.9  2010-01-05 16:52:16 UTC   \n",
       "\n",
       "   pickup_longitude  pickup_latitude  dropoff_longitude  dropoff_latitude  \\\n",
       "0        -73.844311        40.721319         -73.841610         40.712278   \n",
       "1        -74.016048        40.711303         -73.979268         40.782004   \n",
       "\n",
       "   passenger_count_encoded  \n",
       "0                 0.696766  \n",
       "1                 0.696766  "
      ]
     },
     "execution_count": 17,
     "metadata": {},
     "output_type": "execute_result"
    }
   ],
   "source": [
    "new_train = new_train.drop(columns = ['passenger_count'])\n",
    "new_train.head(2)"
   ]
  },
  {
   "cell_type": "code",
   "execution_count": 18,
   "id": "d7fff010",
   "metadata": {},
   "outputs": [
    {
     "data": {
      "text/html": [
       "<div>\n",
       "<style scoped>\n",
       "    .dataframe tbody tr th:only-of-type {\n",
       "        vertical-align: middle;\n",
       "    }\n",
       "\n",
       "    .dataframe tbody tr th {\n",
       "        vertical-align: top;\n",
       "    }\n",
       "\n",
       "    .dataframe thead th {\n",
       "        text-align: right;\n",
       "    }\n",
       "</style>\n",
       "<table border=\"1\" class=\"dataframe\">\n",
       "  <thead>\n",
       "    <tr style=\"text-align: right;\">\n",
       "      <th></th>\n",
       "      <th>key</th>\n",
       "      <th>fare_amount</th>\n",
       "      <th>pickup_datetime</th>\n",
       "      <th>pickup_longitude</th>\n",
       "      <th>pickup_latitude</th>\n",
       "      <th>dropoff_longitude</th>\n",
       "      <th>dropoff_latitude</th>\n",
       "      <th>passenger_count_encoded</th>\n",
       "    </tr>\n",
       "  </thead>\n",
       "  <tbody>\n",
       "    <tr>\n",
       "      <th>0</th>\n",
       "      <td>2009-06-15 17:26:21.0000001</td>\n",
       "      <td>4.5</td>\n",
       "      <td>2009-06-15 17:26:21 UTC</td>\n",
       "      <td>-73.844311</td>\n",
       "      <td>40.721319</td>\n",
       "      <td>-73.841610</td>\n",
       "      <td>40.712278</td>\n",
       "      <td>0.696766</td>\n",
       "    </tr>\n",
       "    <tr>\n",
       "      <th>1</th>\n",
       "      <td>2010-01-05 16:52:16.0000002</td>\n",
       "      <td>16.9</td>\n",
       "      <td>2010-01-05 16:52:16 UTC</td>\n",
       "      <td>-74.016048</td>\n",
       "      <td>40.711303</td>\n",
       "      <td>-73.979268</td>\n",
       "      <td>40.782004</td>\n",
       "      <td>0.696766</td>\n",
       "    </tr>\n",
       "  </tbody>\n",
       "</table>\n",
       "</div>"
      ],
      "text/plain": [
       "                           key  fare_amount          pickup_datetime  \\\n",
       "0  2009-06-15 17:26:21.0000001          4.5  2009-06-15 17:26:21 UTC   \n",
       "1  2010-01-05 16:52:16.0000002         16.9  2010-01-05 16:52:16 UTC   \n",
       "\n",
       "   pickup_longitude  pickup_latitude  dropoff_longitude  dropoff_latitude  \\\n",
       "0        -73.844311        40.721319         -73.841610         40.712278   \n",
       "1        -74.016048        40.711303         -73.979268         40.782004   \n",
       "\n",
       "   passenger_count_encoded  \n",
       "0                 0.696766  \n",
       "1                 0.696766  "
      ]
     },
     "execution_count": 18,
     "metadata": {},
     "output_type": "execute_result"
    }
   ],
   "source": [
    "#handling numerical data using the interpolate function\n",
    "train_df = new_train.interpolate(method = \"linear\", limit_direction = \"forward\")\n",
    "train_df.head(2)"
   ]
  },
  {
   "cell_type": "code",
   "execution_count": 19,
   "id": "1b86f156",
   "metadata": {},
   "outputs": [
    {
     "data": {
      "text/plain": [
       "Text(0.5, 1.0, 'The distribution of the missing data')"
      ]
     },
     "execution_count": 19,
     "metadata": {},
     "output_type": "execute_result"
    },
    {
     "data": {
      "image/png": "[encoded data removed]",
      "text/plain": [
       "<Figure size 648x720 with 1 Axes>"
      ]
     },
     "metadata": {
      "needs_background": "light"
     },
     "output_type": "display_data"
    }
   ],
   "source": [
    "#visualizing the distribution of the data after filling in the missing data\n",
    "train_df.isna().sum().sort_values().plot(kind = 'barh', figsize = (9,10))\n",
    "plt.title(\"The distribution of the missing data\")"
   ]
  },
  {
   "cell_type": "code",
   "execution_count": 20,
   "id": "013d31f9",
   "metadata": {},
   "outputs": [
    {
     "name": "stdout",
     "output_type": "stream",
     "text": [
      "<class 'pandas.core.frame.DataFrame'>\n",
      "Int64Index: 50100 entries, 0 to 99\n",
      "Data columns (total 8 columns):\n",
      " #   Column                   Non-Null Count  Dtype  \n",
      "---  ------                   --------------  -----  \n",
      " 0   key                      50100 non-null  object \n",
      " 1   fare_amount              50100 non-null  float64\n",
      " 2   pickup_datetime          50100 non-null  object \n",
      " 3   pickup_longitude         50100 non-null  float64\n",
      " 4   pickup_latitude          50100 non-null  float64\n",
      " 5   dropoff_longitude        50100 non-null  float64\n",
      " 6   dropoff_latitude         50100 non-null  float64\n",
      " 7   passenger_count_encoded  50100 non-null  float64\n",
      "dtypes: float64(6), object(2)\n",
      "memory usage: 3.4+ MB\n"
     ]
    }
   ],
   "source": [
    "train_df.info()"
   ]
  },
  {
   "cell_type": "code",
   "execution_count": 21,
   "id": "5938e487",
   "metadata": {},
   "outputs": [
    {
     "data": {
      "text/html": [
       "<div>\n",
       "<style scoped>\n",
       "    .dataframe tbody tr th:only-of-type {\n",
       "        vertical-align: middle;\n",
       "    }\n",
       "\n",
       "    .dataframe tbody tr th {\n",
       "        vertical-align: top;\n",
       "    }\n",
       "\n",
       "    .dataframe thead th {\n",
       "        text-align: right;\n",
       "    }\n",
       "</style>\n",
       "<table border=\"1\" class=\"dataframe\">\n",
       "  <thead>\n",
       "    <tr style=\"text-align: right;\">\n",
       "      <th></th>\n",
       "      <th>key</th>\n",
       "      <th>fare_amount</th>\n",
       "      <th>pickup_datetime</th>\n",
       "      <th>pickup_longitude</th>\n",
       "      <th>pickup_latitude</th>\n",
       "      <th>dropoff_longitude</th>\n",
       "      <th>dropoff_latitude</th>\n",
       "      <th>passenger_count_encoded</th>\n",
       "    </tr>\n",
       "  </thead>\n",
       "  <tbody>\n",
       "    <tr>\n",
       "      <th>0</th>\n",
       "      <td>2009-06-15 17:26:21.0000001</td>\n",
       "      <td>4.5</td>\n",
       "      <td>2009-06-15 17:26:21+00:00</td>\n",
       "      <td>-73.844311</td>\n",
       "      <td>40.721319</td>\n",
       "      <td>-73.841610</td>\n",
       "      <td>40.712278</td>\n",
       "      <td>0.696766</td>\n",
       "    </tr>\n",
       "    <tr>\n",
       "      <th>1</th>\n",
       "      <td>2010-01-05 16:52:16.0000002</td>\n",
       "      <td>16.9</td>\n",
       "      <td>2010-01-05 16:52:16+00:00</td>\n",
       "      <td>-74.016048</td>\n",
       "      <td>40.711303</td>\n",
       "      <td>-73.979268</td>\n",
       "      <td>40.782004</td>\n",
       "      <td>0.696766</td>\n",
       "    </tr>\n",
       "  </tbody>\n",
       "</table>\n",
       "</div>"
      ],
      "text/plain": [
       "                           key  fare_amount           pickup_datetime  \\\n",
       "0  2009-06-15 17:26:21.0000001          4.5 2009-06-15 17:26:21+00:00   \n",
       "1  2010-01-05 16:52:16.0000002         16.9 2010-01-05 16:52:16+00:00   \n",
       "\n",
       "   pickup_longitude  pickup_latitude  dropoff_longitude  dropoff_latitude  \\\n",
       "0        -73.844311        40.721319         -73.841610         40.712278   \n",
       "1        -74.016048        40.711303         -73.979268         40.782004   \n",
       "\n",
       "   passenger_count_encoded  \n",
       "0                 0.696766  \n",
       "1                 0.696766  "
      ]
     },
     "execution_count": 21,
     "metadata": {},
     "output_type": "execute_result"
    }
   ],
   "source": [
    "#handling datetime\n",
    "train_df['pickup_datetime'] = pd.to_datetime(train_df['pickup_datetime'])\n",
    "train_df.head(2)"
   ]
  },
  {
   "cell_type": "code",
   "execution_count": 22,
   "id": "aadaeef3",
   "metadata": {},
   "outputs": [
    {
     "data": {
      "text/plain": [
       "Index(['key', 'fare_amount', 'pickup_datetime', 'pickup_longitude',\n",
       "       'pickup_latitude', 'dropoff_longitude', 'dropoff_latitude',\n",
       "       'passenger_count_encoded', 'Year', 'Month', 'Day'],\n",
       "      dtype='object')"
      ]
     },
     "execution_count": 22,
     "metadata": {},
     "output_type": "execute_result"
    }
   ],
   "source": [
    "train_df['Year'] = train_df['pickup_datetime'].dt.year\n",
    "train_df['Month'] = train_df['pickup_datetime'].dt.month\n",
    "train_df['Day'] = train_df['pickup_datetime'].dt.day\n",
    "train_df.columns"
   ]
  },
  {
   "cell_type": "code",
   "execution_count": 23,
   "id": "99d81b5a",
   "metadata": {},
   "outputs": [
    {
     "data": {
      "text/plain": [
       "Index(['key', 'fare_amount', 'pickup_longitude', 'pickup_latitude',\n",
       "       'dropoff_longitude', 'dropoff_latitude', 'passenger_count_encoded',\n",
       "       'Year', 'Month', 'Day'],\n",
       "      dtype='object')"
      ]
     },
     "execution_count": 23,
     "metadata": {},
     "output_type": "execute_result"
    }
   ],
   "source": [
    "train_df = train_df.drop(columns = ['pickup_datetime'])\n",
    "train_df.columns"
   ]
  },
  {
   "cell_type": "code",
   "execution_count": 24,
   "id": "a565a2e3",
   "metadata": {},
   "outputs": [
    {
     "data": {
      "text/plain": [
       "Text(0.5, 1.0, 'value count for fare_amount')"
      ]
     },
     "execution_count": 24,
     "metadata": {},
     "output_type": "execute_result"
    },
    {
     "data": {
      "image/png": "[encoded data removed]",
      "text/plain": [
       "<Figure size 432x288 with 1 Axes>"
      ]
     },
     "metadata": {
      "needs_background": "light"
     },
     "output_type": "display_data"
    }
   ],
   "source": [
    "#visualization of our target variable\n",
    "fare_amount_count = train_df['fare_amount'].value_counts()\n",
    "fare_amount_count.plot(kind = 'barh')\n",
    "plt.title(\"value count for fare_amount\")"
   ]
  },
  {
   "cell_type": "code",
   "execution_count": 25,
   "id": "1f21addf",
   "metadata": {},
   "outputs": [
    {
     "data": {
      "text/plain": [
       "Text(0.5, 1.0, 'histogram for the fare amount')"
      ]
     },
     "execution_count": 25,
     "metadata": {},
     "output_type": "execute_result"
    },
    {
     "data": {
      "image/png": "[encoded data removed]",
      "text/plain": [
       "<Figure size 432x288 with 1 Axes>"
      ]
     },
     "metadata": {
      "needs_background": "light"
     },
     "output_type": "display_data"
    }
   ],
   "source": [
    "train_df['fare_amount'].hist()\n",
    "plt.title(\"histogram for the fare amount\")"
   ]
  },
  {
   "cell_type": "markdown",
   "id": "574125b4",
   "metadata": {},
   "source": [
    "# #scaling the target variable to remove otliers\n",
    "# $x_{scaled} = x - x_{min}/x_{max} - x_{min}$"
   ]
  },
  {
   "cell_type": "code",
   "execution_count": 26,
   "id": "e0e76380",
   "metadata": {},
   "outputs": [
    {
     "data": {
      "text/plain": [
       "(-5.0, 200.0)"
      ]
     },
     "execution_count": 26,
     "metadata": {},
     "output_type": "execute_result"
    }
   ],
   "source": [
    "new_fare_amount = train_df['fare_amount']\n",
    "np.min(new_fare_amount), np.max(new_fare_amount)"
   ]
  },
  {
   "cell_type": "code",
   "execution_count": 27,
   "id": "4e3915c0",
   "metadata": {},
   "outputs": [
    {
     "data": {
      "text/plain": [
       "(0.0, 1.0)"
      ]
     },
     "execution_count": 27,
     "metadata": {},
     "output_type": "execute_result"
    }
   ],
   "source": [
    "def min_max_scaler(col):\n",
    "    scaled_result = (col -np.min(col))/(np.max(col) - np.min(col))\n",
    "    return scaled_result\n",
    "\n",
    "scaled_new_fare_amount = min_max_scaler(new_fare_amount)\n",
    "np.min(scaled_new_fare_amount), np.max(scaled_new_fare_amount)"
   ]
  },
  {
   "cell_type": "code",
   "execution_count": 28,
   "id": "525e89ba",
   "metadata": {},
   "outputs": [
    {
     "data": {
      "text/html": [
       "<div>\n",
       "<style scoped>\n",
       "    .dataframe tbody tr th:only-of-type {\n",
       "        vertical-align: middle;\n",
       "    }\n",
       "\n",
       "    .dataframe tbody tr th {\n",
       "        vertical-align: top;\n",
       "    }\n",
       "\n",
       "    .dataframe thead th {\n",
       "        text-align: right;\n",
       "    }\n",
       "</style>\n",
       "<table border=\"1\" class=\"dataframe\">\n",
       "  <thead>\n",
       "    <tr style=\"text-align: right;\">\n",
       "      <th></th>\n",
       "      <th>fare_amount</th>\n",
       "      <th>pickup_longitude</th>\n",
       "      <th>pickup_latitude</th>\n",
       "      <th>dropoff_longitude</th>\n",
       "      <th>dropoff_latitude</th>\n",
       "      <th>passenger_count_encoded</th>\n",
       "      <th>Year</th>\n",
       "      <th>Month</th>\n",
       "      <th>Day</th>\n",
       "    </tr>\n",
       "  </thead>\n",
       "  <tbody>\n",
       "    <tr>\n",
       "      <th>fare_amount</th>\n",
       "      <td>1.000000</td>\n",
       "      <td>0.005957</td>\n",
       "      <td>-0.007351</td>\n",
       "      <td>0.004299</td>\n",
       "      <td>-0.005455</td>\n",
       "      <td>-0.022517</td>\n",
       "      <td>0.120577</td>\n",
       "      <td>0.026870</td>\n",
       "      <td>-0.001442</td>\n",
       "    </tr>\n",
       "    <tr>\n",
       "      <th>pickup_longitude</th>\n",
       "      <td>0.005957</td>\n",
       "      <td>1.000000</td>\n",
       "      <td>-0.950589</td>\n",
       "      <td>0.956133</td>\n",
       "      <td>-0.946970</td>\n",
       "      <td>0.007689</td>\n",
       "      <td>-0.001567</td>\n",
       "      <td>0.000421</td>\n",
       "      <td>0.006053</td>\n",
       "    </tr>\n",
       "    <tr>\n",
       "      <th>pickup_latitude</th>\n",
       "      <td>-0.007351</td>\n",
       "      <td>-0.950589</td>\n",
       "      <td>1.000000</td>\n",
       "      <td>-0.911126</td>\n",
       "      <td>0.928192</td>\n",
       "      <td>-0.005773</td>\n",
       "      <td>-0.001068</td>\n",
       "      <td>0.000706</td>\n",
       "      <td>-0.006705</td>\n",
       "    </tr>\n",
       "    <tr>\n",
       "      <th>dropoff_longitude</th>\n",
       "      <td>0.004299</td>\n",
       "      <td>0.956133</td>\n",
       "      <td>-0.911126</td>\n",
       "      <td>1.000000</td>\n",
       "      <td>-0.982118</td>\n",
       "      <td>0.007908</td>\n",
       "      <td>-0.000535</td>\n",
       "      <td>0.001411</td>\n",
       "      <td>0.005187</td>\n",
       "    </tr>\n",
       "    <tr>\n",
       "      <th>dropoff_latitude</th>\n",
       "      <td>-0.005455</td>\n",
       "      <td>-0.946970</td>\n",
       "      <td>0.928192</td>\n",
       "      <td>-0.982118</td>\n",
       "      <td>1.000000</td>\n",
       "      <td>-0.006715</td>\n",
       "      <td>-0.001611</td>\n",
       "      <td>-0.000426</td>\n",
       "      <td>-0.007978</td>\n",
       "    </tr>\n",
       "    <tr>\n",
       "      <th>passenger_count_encoded</th>\n",
       "      <td>-0.022517</td>\n",
       "      <td>0.007689</td>\n",
       "      <td>-0.005773</td>\n",
       "      <td>0.007908</td>\n",
       "      <td>-0.006715</td>\n",
       "      <td>1.000000</td>\n",
       "      <td>0.018836</td>\n",
       "      <td>-0.011072</td>\n",
       "      <td>-0.005189</td>\n",
       "    </tr>\n",
       "    <tr>\n",
       "      <th>Year</th>\n",
       "      <td>0.120577</td>\n",
       "      <td>-0.001567</td>\n",
       "      <td>-0.001068</td>\n",
       "      <td>-0.000535</td>\n",
       "      <td>-0.001611</td>\n",
       "      <td>0.018836</td>\n",
       "      <td>1.000000</td>\n",
       "      <td>-0.115879</td>\n",
       "      <td>-0.011368</td>\n",
       "    </tr>\n",
       "    <tr>\n",
       "      <th>Month</th>\n",
       "      <td>0.026870</td>\n",
       "      <td>0.000421</td>\n",
       "      <td>0.000706</td>\n",
       "      <td>0.001411</td>\n",
       "      <td>-0.000426</td>\n",
       "      <td>-0.011072</td>\n",
       "      <td>-0.115879</td>\n",
       "      <td>1.000000</td>\n",
       "      <td>-0.017640</td>\n",
       "    </tr>\n",
       "    <tr>\n",
       "      <th>Day</th>\n",
       "      <td>-0.001442</td>\n",
       "      <td>0.006053</td>\n",
       "      <td>-0.006705</td>\n",
       "      <td>0.005187</td>\n",
       "      <td>-0.007978</td>\n",
       "      <td>-0.005189</td>\n",
       "      <td>-0.011368</td>\n",
       "      <td>-0.017640</td>\n",
       "      <td>1.000000</td>\n",
       "    </tr>\n",
       "  </tbody>\n",
       "</table>\n",
       "</div>"
      ],
      "text/plain": [
       "                         fare_amount  pickup_longitude  pickup_latitude  \\\n",
       "fare_amount                 1.000000          0.005957        -0.007351   \n",
       "pickup_longitude            0.005957          1.000000        -0.950589   \n",
       "pickup_latitude            -0.007351         -0.950589         1.000000   \n",
       "dropoff_longitude           0.004299          0.956133        -0.911126   \n",
       "dropoff_latitude           -0.005455         -0.946970         0.928192   \n",
       "passenger_count_encoded    -0.022517          0.007689        -0.005773   \n",
       "Year                        0.120577         -0.001567        -0.001068   \n",
       "Month                       0.026870          0.000421         0.000706   \n",
       "Day                        -0.001442          0.006053        -0.006705   \n",
       "\n",
       "                         dropoff_longitude  dropoff_latitude  \\\n",
       "fare_amount                       0.004299         -0.005455   \n",
       "pickup_longitude                  0.956133         -0.946970   \n",
       "pickup_latitude                  -0.911126          0.928192   \n",
       "dropoff_longitude                 1.000000         -0.982118   \n",
       "dropoff_latitude                 -0.982118          1.000000   \n",
       "passenger_count_encoded           0.007908         -0.006715   \n",
       "Year                             -0.000535         -0.001611   \n",
       "Month                             0.001411         -0.000426   \n",
       "Day                               0.005187         -0.007978   \n",
       "\n",
       "                         passenger_count_encoded      Year     Month       Day  \n",
       "fare_amount                            -0.022517  0.120577  0.026870 -0.001442  \n",
       "pickup_longitude                        0.007689 -0.001567  0.000421  0.006053  \n",
       "pickup_latitude                        -0.005773 -0.001068  0.000706 -0.006705  \n",
       "dropoff_longitude                       0.007908 -0.000535  0.001411  0.005187  \n",
       "dropoff_latitude                       -0.006715 -0.001611 -0.000426 -0.007978  \n",
       "passenger_count_encoded                 1.000000  0.018836 -0.011072 -0.005189  \n",
       "Year                                    0.018836  1.000000 -0.115879 -0.011368  \n",
       "Month                                  -0.011072 -0.115879  1.000000 -0.017640  \n",
       "Day                                    -0.005189 -0.011368 -0.017640  1.000000  "
      ]
     },
     "execution_count": 28,
     "metadata": {},
     "output_type": "execute_result"
    }
   ],
   "source": [
    "#to find the correlation of our features\n",
    "corr_matrix = train_df.corr()\n",
    "corr_matrix"
   ]
  },
  {
   "cell_type": "code",
   "execution_count": 29,
   "id": "b3ede12b",
   "metadata": {},
   "outputs": [
    {
     "data": {
      "image/png": "[encoded data removed]",
      "text/plain": [
       "<Figure size 432x288 with 2 Axes>"
      ]
     },
     "metadata": {
      "needs_background": "light"
     },
     "output_type": "display_data"
    }
   ],
   "source": [
    "sns.heatmap(corr_matrix, cmap = plt.cm.Reds)\n",
    "plt.title('Correlation data for taxi fare')\n",
    "plt.show()"
   ]
  },
  {
   "cell_type": "code",
   "execution_count": 30,
   "id": "0e43565e",
   "metadata": {},
   "outputs": [
    {
     "data": {
      "text/plain": [
       "fare_amount                1.000000\n",
       "pickup_longitude           0.005957\n",
       "pickup_latitude            0.007351\n",
       "dropoff_longitude          0.004299\n",
       "dropoff_latitude           0.005455\n",
       "passenger_count_encoded    0.022517\n",
       "Year                       0.120577\n",
       "Month                      0.026870\n",
       "Name: fare_amount, dtype: float64"
      ]
     },
     "execution_count": 30,
     "metadata": {},
     "output_type": "execute_result"
    }
   ],
   "source": [
    "#determining the featurest hat most correlate with our target variable\n",
    "target =abs(corr_matrix['fare_amount'])\n",
    "sig_features = target[target > 0.004]\n",
    "sig_features"
   ]
  },
  {
   "cell_type": "code",
   "execution_count": 31,
   "id": "e63d26e5",
   "metadata": {},
   "outputs": [
    {
     "data": {
      "text/plain": [
       "Index(['key', 'fare_amount', 'pickup_longitude', 'pickup_latitude',\n",
       "       'dropoff_longitude', 'dropoff_latitude', 'passenger_count_encoded',\n",
       "       'Year', 'Month', 'Day'],\n",
       "      dtype='object')"
      ]
     },
     "execution_count": 31,
     "metadata": {},
     "output_type": "execute_result"
    }
   ],
   "source": [
    "train_df.columns"
   ]
  },
  {
   "cell_type": "code",
   "execution_count": 32,
   "id": "bc40e187",
   "metadata": {},
   "outputs": [],
   "source": [
    "y = train_df['fare_amount']\n",
    "x = train_df.drop(columns = ['key', 'fare_amount', 'Day' ], axis = 1)"
   ]
  },
  {
   "cell_type": "code",
   "execution_count": 33,
   "id": "d4c23a17",
   "metadata": {},
   "outputs": [],
   "source": [
    "SEED = 2020"
   ]
  },
  {
   "cell_type": "code",
   "execution_count": 34,
   "id": "0dde5ab5",
   "metadata": {},
   "outputs": [],
   "source": [
    "models = list()\n",
    "models.append((\"Linear Regression\", LinearRegression()))\n",
    "models.append((\"RandomForest Regressor\", RandomForestRegressor()))\n",
    "results = list()\n",
    "names = list()\n",
    "scoring = \"neg_mean_squared_error\""
   ]
  },
  {
   "cell_type": "code",
   "execution_count": 35,
   "id": "bc163d3f",
   "metadata": {},
   "outputs": [
    {
     "name": "stdout",
     "output_type": "stream",
     "text": [
      "LinearRegression():92.076020 (5.559184)\n",
      "RandomForestRegressor():22.756410 (4.220701)\n"
     ]
    }
   ],
   "source": [
    "for name, model in models:\n",
    "    kfold = KFold(n_splits = 10)\n",
    "    cv_results = -(cross_val_score(model, x, y, cv = kfold, scoring = scoring))\n",
    "    results.append(cv_results)\n",
    "    error_score = \"%s:%f (%f)\" %(model, cv_results.mean(), cv_results.std())\n",
    "    print(error_score)"
   ]
  },
  {
   "cell_type": "code",
   "execution_count": 36,
   "id": "39b3d2cf",
   "metadata": {},
   "outputs": [],
   "source": [
    "#since the randomforestregressor has a better performance, we choose it\n",
    "model = RandomForestRegressor()\n",
    "x_train, x_test, y_train, y_test = train_test_split(x, y, test_size = 0.3, random_state = SEED)\n",
    "model.fit(x_train, y_train)\n",
    "predictions = model.predict(x_test)"
   ]
  },
  {
   "cell_type": "code",
   "execution_count": 37,
   "id": "021af25d",
   "metadata": {},
   "outputs": [
    {
     "data": {
      "text/plain": [
       "20.675711138826298"
      ]
     },
     "execution_count": 37,
     "metadata": {},
     "output_type": "execute_result"
    }
   ],
   "source": [
    "#finding the mean squared error\n",
    "mse = mean_squared_error(predictions, y_test)\n",
    "mse"
   ]
  },
  {
   "cell_type": "code",
   "execution_count": 38,
   "id": "60c4c117",
   "metadata": {},
   "outputs": [
    {
     "data": {
      "text/plain": [
       "['Taxi Fare Prediction.joblib']"
      ]
     },
     "execution_count": 38,
     "metadata": {},
     "output_type": "execute_result"
    }
   ],
   "source": [
    "#saving our model for deployment\n",
    "pickle.dump(RandomForestRegressor(), open(\"Taxi Fare Prediction.pkl\", \"wb\"))\n",
    "dump(RandomForestRegressor(), \"Taxi Fare Prediction.joblib\")"
   ]
  },
  {
   "cell_type": "code",
   "execution_count": null,
   "id": "26dd704e",
   "metadata": {},
   "outputs": [],
   "source": []
  }
 ],
 "metadata": {
  "kernelspec": {
   "display_name": "Python 3",
   "language": "python",
   "name": "python3"
  },
  "language_info": {
   "codemirror_mode": {
    "name": "ipython",
    "version": 3
   },
   "file_extension": ".py",
   "mimetype": "text/x-python",
   "name": "python",
   "nbconvert_exporter": "python",
   "pygments_lexer": "ipython3",
   "version": "3.8.8"
  }
 },
 "nbformat": 4,
 "nbformat_minor": 5
}
